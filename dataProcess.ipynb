{
 "cells": [
  {
   "cell_type": "code",
   "execution_count": 26,
   "id": "6c82ac35",
   "metadata": {},
   "outputs": [],
   "source": [
    "import pandas as pd\n",
    "import numpy as np\n",
    "import pickle"
   ]
  },
  {
   "cell_type": "code",
   "execution_count": 2,
   "id": "579be170",
   "metadata": {},
   "outputs": [],
   "source": [
    "with open('./AIDS/AIDS_A.txt') as f:\n",
    "    AIDS_A = f.readlines()\n",
    "\n",
    "for i, j in enumerate(AIDS_A):\n",
    "    x = j.split(',')\n",
    "    x[-1] = x[-1][:-1]\n",
    "    for k, l in enumerate(x):\n",
    "        x[k] = int(l)\n",
    "    AIDS_A[i] = x"
   ]
  },
  {
   "cell_type": "code",
   "execution_count": 3,
   "id": "2564b8af",
   "metadata": {},
   "outputs": [],
   "source": [
    "with open('./AIDS/AIDS_graph_indicator.txt') as f:\n",
    "    AIDS_graph_indicator = f.readlines()\n",
    "    for i, j in enumerate(AIDS_graph_indicator):\n",
    "        AIDS_graph_indicator[i] = int(j[:-1])"
   ]
  },
  {
   "cell_type": "code",
   "execution_count": 4,
   "id": "847dbb2b",
   "metadata": {},
   "outputs": [],
   "source": [
    "with open('./AIDS/AIDS_node_attributes.txt') as f:\n",
    "    AIDS_node_attributes = f.readlines()\n",
    "\n",
    "for i, j in enumerate(AIDS_node_attributes):\n",
    "    x = j.split(',')\n",
    "    x[-1] = x[-1][:-1]\n",
    "    for k, l in enumerate(x):\n",
    "        x[k] = float(l)\n",
    "    AIDS_node_attributes[i] = x"
   ]
  },
  {
   "cell_type": "code",
   "execution_count": 5,
   "id": "6d49725f",
   "metadata": {},
   "outputs": [],
   "source": [
    "with open('./AIDS/AIDS_node_labels.txt') as f:\n",
    "    AIDS_node_labels = f.readlines()\n",
    "\n",
    "for i, j in enumerate(AIDS_node_labels):\n",
    "    AIDS_node_labels[i] = int(j[:-1])"
   ]
  },
  {
   "cell_type": "code",
   "execution_count": 6,
   "id": "12b19c25",
   "metadata": {},
   "outputs": [],
   "source": [
    "with open('./AIDS/AIDS_edge_labels.txt') as f:\n",
    "    AIDS_edge_labels = f.readlines()\n",
    "\n",
    "for i, j in enumerate(AIDS_edge_labels):\n",
    "    AIDS_edge_labels[i] = int(j[:-1])"
   ]
  },
  {
   "cell_type": "code",
   "execution_count": 7,
   "id": "7987c9ae",
   "metadata": {},
   "outputs": [],
   "source": [
    "with open('./AIDS/AIDS_graph_labels.txt') as f:\n",
    "    AIDS_graph_labels = f.readlines()\n",
    "\n",
    "for i, j in enumerate(AIDS_graph_labels):\n",
    "    AIDS_graph_labels[i] = int(j[:-1])"
   ]
  },
  {
   "cell_type": "code",
   "execution_count": 8,
   "id": "277e6bc0",
   "metadata": {},
   "outputs": [],
   "source": [
    "# 整理每張圖的點\n",
    "maxg = max(AIDS_graph_indicator)\n",
    "nodesGroups = [[] for i in range(maxg)]            ###\n",
    "nodesLabel = [[] for i in range(maxg)]             ###\n",
    "nodesAttribute = [[] for i in range(maxg)]         ###\n",
    "graphLabel = AIDS_graph_labels                     ###\n",
    "\n",
    "for i, j in enumerate(AIDS_graph_indicator):\n",
    "    node = i + 1\n",
    "    groupIndex = j - 1\n",
    "    nodeLabel = AIDS_node_labels[i]\n",
    "    nodeAttribute = AIDS_node_attributes[i]\n",
    "    \n",
    "    nodesGroups[groupIndex].append(node)\n",
    "    nodesLabel[groupIndex].append(nodeLabel)\n",
    "    nodesAttribute[groupIndex].append(nodeAttribute)"
   ]
  },
  {
   "cell_type": "code",
   "execution_count": 10,
   "id": "c88ebe72",
   "metadata": {},
   "outputs": [],
   "source": [
    "# 整理 adj matrix\n",
    "def func1(groups, AIDS_A, AIDS_edge_labels):\n",
    "    nodesN = len(groups)\n",
    "    matrix = np.zeros([nodesN, nodesN])\n",
    "    edgeLabel = []\n",
    "    for i, j in enumerate(AIDS_A):\n",
    "        e1 = j[0]\n",
    "        e2 = j[1]\n",
    "        if (e1 in groups) and (e2) in groups:\n",
    "            s1 = groups.index(e1)\n",
    "            s2 = groups.index(e2)\n",
    "            matrix[s1, s2] = 1.0\n",
    "            \n",
    "            l = AIDS_edge_labels[i]\n",
    "            edgeL = [s1, s2, l]\n",
    "            edgeLabel.append(edgeL)\n",
    "    return matrix, edgeLabel\n",
    "    \n",
    "adjecentMatrix = [None] * maxg\n",
    "edgesLabel = [None] * maxg\n",
    "for i, nodes in enumerate(nodesGroups):\n",
    "    matrix, edgesL = func1(nodes, AIDS_A, AIDS_edge_labels)\n",
    "    adjecentMatrix[i] = matrix\n",
    "    edgesLabel[i] = edgesL"
   ]
  },
  {
   "cell_type": "code",
   "execution_count": 21,
   "id": "ab4dfb99",
   "metadata": {},
   "outputs": [],
   "source": [
    "# nodesGroups\n",
    "# nodesLabel\n",
    "# nodesAttribute\n",
    "# graphLabel\n",
    "# adjecentMatrix\n",
    "# edgesLabel\n",
    "outputsDatas = []\n",
    "for i in range(maxg):\n",
    "    a1 = np.array(nodesGroups[i])\n",
    "    a2 = np.array(nodesLabel[i])\n",
    "    a3 = np.array(nodesAttribute[i])\n",
    "    a4 = graphLabel[i]\n",
    "    a5 = adjecentMatrix[i]\n",
    "    a6 = np.array(edgesLabel[i])\n",
    "    data = {'nodes':a1, 'nodesLabel':a2, 'nodesAttribute':a3\n",
    "           ,'graphLabel':a4, 'adjecentMatrix':a5, 'edgesLabel':a6}\n",
    "    outputsDatas.append(data)"
   ]
  },
  {
   "cell_type": "code",
   "execution_count": 27,
   "id": "889e1bfe",
   "metadata": {},
   "outputs": [],
   "source": [
    "with open('./dataset/datas.pickle', 'wb') as f:\n",
    "    pickle.dump(outputsDatas, f)"
   ]
  }
 ],
 "metadata": {
  "kernelspec": {
   "display_name": "Python 3",
   "language": "python",
   "name": "python3"
  },
  "language_info": {
   "codemirror_mode": {
    "name": "ipython",
    "version": 3
   },
   "file_extension": ".py",
   "mimetype": "text/x-python",
   "name": "python",
   "nbconvert_exporter": "python",
   "pygments_lexer": "ipython3",
   "version": "3.8.8"
  }
 },
 "nbformat": 4,
 "nbformat_minor": 5
}
