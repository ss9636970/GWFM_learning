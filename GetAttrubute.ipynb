{
 "cells": [
  {
   "cell_type": "code",
   "execution_count": 1,
   "id": "f1698c87",
   "metadata": {},
   "outputs": [],
   "source": [
    "import torch\n",
    "import torch.nn as nn\n",
    "from torch import optim\n",
    "import numpy as np\n",
    "import pandas as pd\n",
    "import os\n",
    "import pickle\n",
    "import random\n",
    "import time\n",
    "import importlib\n",
    "import sys\n",
    "sys.path.append('./GWFM/')\n",
    "\n",
    "import GWFM.methods.AlgOT as at\n",
    "import GWFM.methods.FusedGromovWassersteinFactorization as FW\n",
    "from methods.AlgOT import cost_mat, ot_fgw\n",
    "from methods.DataIO import StructuralDataSampler, StructuralDataSampler2, structural_data_split\n",
    "from sklearn.manifold import MDS, TSNE\n",
    "from typing import List, Tuple\n",
    "# import functions as fc"
   ]
  },
  {
   "cell_type": "markdown",
   "id": "a4574241",
   "metadata": {},
   "source": [
    "# Load  data  and  model"
   ]
  },
  {
   "cell_type": "code",
   "execution_count": 2,
   "id": "aac882cd",
   "metadata": {},
   "outputs": [],
   "source": [
    "with open('./dataset/datas.pickle', 'rb') as f:\n",
    "    datas = pickle.load(f)"
   ]
  },
  {
   "cell_type": "code",
   "execution_count": 8,
   "id": "89c285aa",
   "metadata": {},
   "outputs": [
    {
     "data": {
      "text/plain": [
       "<All keys matched successfully>"
      ]
     },
     "execution_count": 8,
     "metadata": {},
     "output_type": "execute_result"
    }
   ],
   "source": [
    "modelPath = './models/gwModel_atoms100.pt'\n",
    "data_sampler = StructuralDataSampler2(datas)\n",
    "num_samples = len(data_sampler)\n",
    "num_atoms = 100\n",
    "size_atoms = num_atoms * [35]\n",
    "ot_method = 'ppa'\n",
    "gamma = 5e-2\n",
    "gwb_layers = 5\n",
    "ot_layers = 30\n",
    "dim_embedding = 4\n",
    "num_classes = None       # 先驗分布\n",
    "prior = None             # 先驗分布\n",
    "\n",
    "model = FW.FGWF(num_samples=num_samples,\n",
    "                num_classes=num_classes,\n",
    "                size_atoms=size_atoms,\n",
    "                dim_embedding=dim_embedding,\n",
    "                ot_method=ot_method,\n",
    "                gamma=gamma,\n",
    "                gwb_layers=gwb_layers,\n",
    "                ot_layers=ot_layers,\n",
    "                prior=prior)\n",
    "model.load_state_dict(torch.load(modelPath))"
   ]
  },
  {
   "cell_type": "markdown",
   "id": "672708bb",
   "metadata": {},
   "source": [
    "# get  graph  Attributes 1"
   ]
  },
  {
   "cell_type": "code",
   "execution_count": 9,
   "id": "902d9262",
   "metadata": {},
   "outputs": [],
   "source": [
    "graph_attributes1 = model.output_weights().detach()\n",
    "graph_attributes1 = graph_attributes1.t()"
   ]
  },
  {
   "cell_type": "code",
   "execution_count": 10,
   "id": "acc9fb7d",
   "metadata": {},
   "outputs": [
    {
     "data": {
      "text/plain": [
       "torch.Size([2000, 100])"
      ]
     },
     "execution_count": 10,
     "metadata": {},
     "output_type": "execute_result"
    }
   ],
   "source": [
    "graph_attributes1.shape"
   ]
  },
  {
   "cell_type": "code",
   "execution_count": 11,
   "id": "b49971f4",
   "metadata": {},
   "outputs": [],
   "source": [
    "with open('./Attributes/graphAttributes_100.pickle', 'wb') as f:\n",
    "    pickle.dump(graph_attributes1, f)"
   ]
  },
  {
   "cell_type": "markdown",
   "id": "71a9231b",
   "metadata": {},
   "source": [
    "# get node Attrubutes"
   ]
  },
  {
   "cell_type": "code",
   "execution_count": 7,
   "id": "6a2cdcc8",
   "metadata": {},
   "outputs": [],
   "source": [
    "atomAttributeList = []\n",
    "for i in range(len(model.embeddings)):\n",
    "    x = model.embeddings[i].detach()\n",
    "    atomAttributeList.append(x)\n",
    "\n",
    "lambdas = model.output_weights().detach().t()\n",
    "\n",
    "# transports = []\n",
    "# for i in range(len(data_sampler)):\n",
    "#     data = data_sampler[i]\n",
    "#     graph = data[0]\n",
    "#     prob = data[1]\n",
    "#     emb = data[2]\n",
    "    \n",
    "#     tran = []\n",
    "#     for k in range(model.num_atoms):\n",
    "#         graph_k = model.output_atoms(k).data\n",
    "#         emb_k = model.embeddings[k].data\n",
    "#         psk = model.ps[k]\n",
    "#         _, tran_k = ot_fgw(graph_k, graph, psk, prob,\n",
    "#                            model.ot_method, model.gamma, model.ot_layers,\n",
    "#                            emb_k, emb)\n",
    "#         tran_k = tran_k.t()\n",
    "#         tran.append(tran_k)\n",
    "#     transports.append(tran)\n",
    "# with open('./Attributes/nodeA/transports.pickle', 'wb') as f:\n",
    "#     pickle.dump(transports, f)\n",
    "\n",
    "with open('./Attributes/nodeA/transports.pickle', 'rb') as f:\n",
    "    transports = pickle.load(f)"
   ]
  },
  {
   "cell_type": "code",
   "execution_count": 9,
   "id": "c4fcbad6",
   "metadata": {
    "scrolled": true
   },
   "outputs": [],
   "source": [
    "nodeAttributes = []\n",
    "for graph in range(len(data_sampler)):\n",
    "    lamb = lambdas[graph, :]\n",
    "    nodeA = []\n",
    "    for node in range(transports[graph][0].shape[0]):\n",
    "        nodeB = []\n",
    "        for atom in range(len(atomAttributeList)):\n",
    "            atomAttribute = atomAttributeList[atom]\n",
    "            attr = atomAttribute * transports[graph][atom][node, :].view(-1, 1) * lamb[atom]\n",
    "            attr = attr.reshape(1, -1)\n",
    "            nodeB.append(attr)\n",
    "        attr = torch.cat(nodeB, dim=1)\n",
    "        nodeA.append(attr)\n",
    "    attr = torch.cat(nodeA, dim=0)\n",
    "    nodeAttributes.append(attr)\n",
    "\n",
    "with open('./Attributes/nodeAttributes', 'wb') as f:\n",
    "    pickle.dump(nodeAttributes, f)"
   ]
  },
  {
   "cell_type": "code",
   "execution_count": null,
   "id": "f0f14146",
   "metadata": {},
   "outputs": [],
   "source": []
  },
  {
   "cell_type": "code",
   "execution_count": null,
   "id": "498d824a",
   "metadata": {},
   "outputs": [],
   "source": []
  },
  {
   "cell_type": "code",
   "execution_count": null,
   "id": "0b2f097f",
   "metadata": {},
   "outputs": [],
   "source": []
  },
  {
   "cell_type": "code",
   "execution_count": null,
   "id": "1a74d1de",
   "metadata": {},
   "outputs": [],
   "source": []
  },
  {
   "cell_type": "code",
   "execution_count": null,
   "id": "4ade0b23",
   "metadata": {},
   "outputs": [],
   "source": []
  },
  {
   "cell_type": "code",
   "execution_count": null,
   "id": "4326267d",
   "metadata": {},
   "outputs": [],
   "source": []
  },
  {
   "cell_type": "code",
   "execution_count": null,
   "id": "76f8645f",
   "metadata": {},
   "outputs": [],
   "source": []
  },
  {
   "cell_type": "code",
   "execution_count": null,
   "id": "be48e910",
   "metadata": {},
   "outputs": [],
   "source": []
  }
 ],
 "metadata": {
  "kernelspec": {
   "display_name": "Python 3",
   "language": "python",
   "name": "python3"
  },
  "language_info": {
   "codemirror_mode": {
    "name": "ipython",
    "version": 3
   },
   "file_extension": ".py",
   "mimetype": "text/x-python",
   "name": "python",
   "nbconvert_exporter": "python",
   "pygments_lexer": "ipython3",
   "version": "3.8.8"
  }
 },
 "nbformat": 4,
 "nbformat_minor": 5
}
