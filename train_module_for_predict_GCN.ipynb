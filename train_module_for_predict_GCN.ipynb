{
 "cells": [
  {
   "cell_type": "code",
   "execution_count": 1,
   "id": "a2c6a9d5",
   "metadata": {
    "colab": {
     "base_uri": "https://localhost:8080/"
    },
    "executionInfo": {
     "elapsed": 19281,
     "status": "ok",
     "timestamp": 1623673587416,
     "user": {
      "displayName": "汪玄同",
      "photoUrl": "",
      "userId": "02762474676861075463"
     },
     "user_tz": -480
    },
    "id": "a2c6a9d5",
    "outputId": "fbe446c4-6789-4ae9-b44a-d3e30a2ca4f3"
   },
   "outputs": [
    {
     "name": "stdout",
     "output_type": "stream",
     "text": [
      "Mounted at /content/gdrive\n"
     ]
    }
   ],
   "source": [
    "import os\n",
    "# import Google Drive 套件\n",
    "from google.colab import drive\n",
    "# 將自己的雲端硬碟掛載上去\n",
    "drive.mount('/content/gdrive')\n",
    "\n",
    "os.chdir('./gdrive/MyDrive/Colab Notebooks/cheng_ta/final/dataset')      # 檔案目錄"
   ]
  },
  {
   "cell_type": "code",
   "execution_count": 2,
   "id": "8f401808",
   "metadata": {
    "executionInfo": {
     "elapsed": 6002,
     "status": "ok",
     "timestamp": 1623673593417,
     "user": {
      "displayName": "汪玄同",
      "photoUrl": "",
      "userId": "02762474676861075463"
     },
     "user_tz": -480
    },
    "id": "8f401808"
   },
   "outputs": [],
   "source": [
    "import torch\n",
    "import torch.nn as nn\n",
    "from torch import optim\n",
    "import numpy as np\n",
    "import pandas as pd\n",
    "import os\n",
    "import pickle\n",
    "import random\n",
    "import time\n",
    "import importlib\n",
    "import sys\n",
    "from sklearn.metrics import accuracy_score\n",
    "from sklearn.metrics import f1_score\n",
    "import predictModels as pm"
   ]
  },
  {
   "cell_type": "code",
   "execution_count": 3,
   "id": "238174d1",
   "metadata": {
    "executionInfo": {
     "elapsed": 12833,
     "status": "ok",
     "timestamp": 1623673608638,
     "user": {
      "displayName": "汪玄同",
      "photoUrl": "",
      "userId": "02762474676861075463"
     },
     "user_tz": -480
    },
    "id": "238174d1"
   },
   "outputs": [],
   "source": [
    "with open('./Attributes/nodeA/transports.pickle', 'rb') as f:\n",
    "    transports = pickle.load(f)\n",
    "\n",
    "with open('./Attributes/nodeA/lambdas.pickle', 'rb') as f:\n",
    "    lambdas = pickle.load(f)\n",
    "    \n",
    "with open('./Attributes/nodeA/atomsAdj.pickle', 'rb') as f:\n",
    "    atomsAdj = pickle.load(f)\n",
    "    \n",
    "with open('./Attributes/nodeA/atomAttributes.pickle', 'rb') as f:\n",
    "    atomAttributes = pickle.load(f)"
   ]
  },
  {
   "cell_type": "code",
   "execution_count": 4,
   "id": "739a59e7",
   "metadata": {
    "colab": {
     "base_uri": "https://localhost:8080/"
    },
    "executionInfo": {
     "elapsed": 2483,
     "status": "ok",
     "timestamp": 1623673611114,
     "user": {
      "displayName": "汪玄同",
      "photoUrl": "",
      "userId": "02762474676861075463"
     },
     "user_tz": -480
    },
    "id": "739a59e7",
    "outputId": "510eea2f-1a82-4ff3-f9b0-9b3e175d0480"
   },
   "outputs": [
    {
     "data": {
      "text/plain": [
       "(2000, torch.Size([38]))"
      ]
     },
     "execution_count": 4,
     "metadata": {
      "tags": []
     },
     "output_type": "execute_result"
    }
   ],
   "source": [
    "with open('./dataset/datas.pickle', 'rb') as f:\n",
    "    datas = pickle.load(f)\n",
    "\n",
    "# node labels\n",
    "Nclasses = []\n",
    "for i in range(len(datas)):\n",
    "    temp = torch.tensor(datas[i]['nodesLabel'], dtype=torch.long)\n",
    "    Nclasses.append(temp)\n",
    "\n",
    "classWeight = [0] * 38\n",
    "for i in range(len(Nclasses)):\n",
    "    for j in range(Nclasses[i].shape[0]):\n",
    "        c = Nclasses[i][j]\n",
    "        classWeight[c] += 1\n",
    "classWeight = torch.tensor(classWeight, dtype=torch.float)\n",
    "classWeight = classWeight / torch.sum(classWeight)\n",
    "classWeight = 1 / classWeight\n",
    "classWeight = classWeight / torch.sum(classWeight)\n",
    "del datas\n",
    "len(Nclasses), classWeight.shape"
   ]
  },
  {
   "cell_type": "markdown",
   "id": "911631c8",
   "metadata": {
    "id": "911631c8"
   },
   "source": [
    "# node 1 train"
   ]
  },
  {
   "cell_type": "code",
   "execution_count": 5,
   "id": "8ad22e88",
   "metadata": {
    "executionInfo": {
     "elapsed": 459,
     "status": "ok",
     "timestamp": 1623673613664,
     "user": {
      "displayName": "汪玄同",
      "photoUrl": "",
      "userId": "02762474676861075463"
     },
     "user_tz": -480
    },
    "id": "8ad22e88"
   },
   "outputs": [],
   "source": [
    "# model 參數\n",
    "inputD = 4\n",
    "outputD = 38\n",
    "GCN_layer = 3\n",
    "\n",
    "# 訓練超參數 train\n",
    "modelSave = './models/pre2/nodeModel_2.pt'\n",
    "lossSave = './models/pre2/nodeLoss_2.pickle'\n",
    "size_batch = 16\n",
    "epochs = 30\n",
    "lr = 0.01\n",
    "weight_decay = 0\n",
    "shuffle_data = True\n",
    "device = torch.device('cuda' if torch.cuda.is_available() else 'cpu')"
   ]
  },
  {
   "cell_type": "code",
   "execution_count": 6,
   "id": "fdd86e8c",
   "metadata": {
    "executionInfo": {
     "elapsed": 9088,
     "status": "ok",
     "timestamp": 1623673632058,
     "user": {
      "displayName": "汪玄同",
      "photoUrl": "",
      "userId": "02762474676861075463"
     },
     "user_tz": -480
    },
    "id": "fdd86e8c"
   },
   "outputs": [],
   "source": [
    "model = pm.predModel_2(inputD, outputD, GCN_layer)\n",
    "for i in range(len(atomsAdj)):\n",
    "    atomsAdj[i] = atomsAdj[i].to(device)\n",
    "    atomAttributes[i] = atomAttributes[i].to(device)\n",
    "model.setModel(atomsAdj, atomAttributes)"
   ]
  },
  {
   "cell_type": "code",
   "execution_count": 7,
   "id": "6a1bb34c",
   "metadata": {
    "executionInfo": {
     "elapsed": 3,
     "status": "ok",
     "timestamp": 1623673632058,
     "user": {
      "displayName": "汪玄同",
      "photoUrl": "",
      "userId": "02762474676861075463"
     },
     "user_tz": -480
    },
    "id": "6a1bb34c"
   },
   "outputs": [],
   "source": [
    "def train_nodeAttributes(model,\n",
    "                        transports,\n",
    "                        lambdas,\n",
    "                        labels,\n",
    "                        size_batch: int = 500,\n",
    "                        epochs: int = 100,\n",
    "                        lr: float = 1e-1,\n",
    "                        weight_decay: float = 0,\n",
    "                        shuffle_data: bool = True,\n",
    "                        device=None):\n",
    "    \"\"\"\n",
    "    training a FGWF model\n",
    "    Args:\n",
    "        model: a FGWF model\n",
    "        database: a list of data, each element is a list representing [cost, distriubtion, feature, label]\n",
    "        size_batch: the size of batch, deciding the frequency of backpropagation\n",
    "        epochs: the number epochs\n",
    "        lr: learning rate\n",
    "        weight_decay: the weight of the l2-norm regularization of parameters\n",
    "        shuffle_data: whether shuffle data in each epoch\n",
    "        zeta: the weight of the regularizer enhancing the diversity of atoms\n",
    "        mode: fit or transform\n",
    "        visualize_prefix: display learning result after each epoch or not\n",
    "    \"\"\"\n",
    "    global modelSave, lossSave, classWeight\n",
    "    \n",
    "    if device is not None:\n",
    "        print(device)\n",
    "        model.to(device)\n",
    "        lambdas = lambdas.to(device)\n",
    "        classWeight = classWeight.to(device)\n",
    "        for i in range(len(transports)):\n",
    "            labels[i] = labels[i].to(device)\n",
    "            for j in range(len(transports[i])):\n",
    "                transports[i][j] = transports[i][j].to(device)\n",
    "    \n",
    "    optimizer = optim.Adam(model.parameters(), lr=lr, weight_decay=weight_decay)\n",
    "    lossfun = nn.CrossEntropyLoss(weight=classWeight)\n",
    "    model.train()\n",
    "\n",
    "    num_samples = len(transports)\n",
    "    index_samples = list(range(num_samples))\n",
    "    index_split = int(num_samples * 0.8)\n",
    "    \n",
    "    random.shuffle(index_samples)\n",
    "    index_train = index_samples[:index_split]\n",
    "    index_val = index_samples[index_split:]\n",
    "    \n",
    "    epoch_metric = {'loss':[], 'accu':[], 'f1':[]}\n",
    "    \n",
    "    t_start = time.time()\n",
    "    \n",
    "    for epoch in range(epochs):\n",
    "        batch_loss = []\n",
    "\n",
    "        if shuffle_data:\n",
    "            random.shuffle(index_train)\n",
    "        \n",
    "        total_loss = 0.\n",
    "        counts = 0\n",
    "        for i in index_train:\n",
    "            trans, lamb = transports[i], lambdas[i, :]\n",
    "            y = model(trans, lamb)\n",
    "            l = labels[i]\n",
    "            loss = lossfun(y, l)\n",
    "            total_loss += loss\n",
    "            \n",
    "            counts += 1\n",
    "            if counts % size_batch == 0 or counts == num_samples:\n",
    "                optimizer.zero_grad()\n",
    "                total_loss.backward()\n",
    "                optimizer.step()\n",
    "                batch_loss.append(total_loss.item())\n",
    "                total_loss = 0.\n",
    "                counts = 0\n",
    "            \n",
    "        el = sum(batch_loss) / len(batch_loss)\n",
    "        epoch_metric['loss'].append(el)\n",
    "        \n",
    "        preds = []\n",
    "        trues = []\n",
    "        for i in index_val:\n",
    "            with torch.no_grad():\n",
    "                trans, lamb = transports[i], lambdas[i, :]\n",
    "                y = model(trans, lamb)\n",
    "            pred = torch.argmax(y, dim=1).cpu().detach()\n",
    "            true = labels[i].cpu().detach()\n",
    "            preds.append(pred)\n",
    "            trues.append(true)\n",
    "        preds = torch.cat(preds, dim=0)\n",
    "        trues = torch.cat(trues, dim=0)\n",
    "            \n",
    "        accu = accuracy_score(preds, trues)\n",
    "        f1 = f1_score(preds, trues, average='macro')\n",
    "        epoch_metric['accu'].append(accu)\n",
    "        epoch_metric['f1'].append(f1)\n",
    "        print('epoch loss: {}, accu/f1:{}/{}, epoch:{}/{}, time:{}'.format(el, accu, f1, epoch, epochs, time.time()-t_start))\n",
    "        \n",
    "        with open(lossSave, 'wb') as f:\n",
    "              pickle.dump(epoch_metric, f)\n",
    "        torch.save(model.state_dict(), modelSave)"
   ]
  },
  {
   "cell_type": "code",
   "execution_count": 8,
   "id": "9bc12102",
   "metadata": {
    "colab": {
     "base_uri": "https://localhost:8080/"
    },
    "executionInfo": {
     "elapsed": 1751826,
     "status": "ok",
     "timestamp": 1623675388960,
     "user": {
      "displayName": "汪玄同",
      "photoUrl": "",
      "userId": "02762474676861075463"
     },
     "user_tz": -480
    },
    "id": "9bc12102",
    "outputId": "d46bce59-1195-40d7-9667-ed5ff0795e91"
   },
   "outputs": [
    {
     "name": "stdout",
     "output_type": "stream",
     "text": [
      "cuda\n",
      "epoch loss: 54.3127082824707, accu/f1:0.7320200125078173/0.08830424258074339, epoch:0/30, time:1749.3737325668335\n"
     ]
    }
   ],
   "source": [
    "train_nodeAttributes(model=model,\n",
    "                      transports=transports,\n",
    "                      lambdas=lambdas,\n",
    "                      labels=Nclasses,\n",
    "                      size_batch=size_batch,\n",
    "                      epochs=epochs,\n",
    "                      lr=lr,\n",
    "                      weight_decay=weight_decay,\n",
    "                      shuffle_data=shuffle_data,\n",
    "                      device=device\n",
    "                      )"
   ]
  },
  {
   "cell_type": "code",
   "execution_count": null,
   "id": "45ea553c",
   "metadata": {
    "id": "45ea553c"
   },
   "outputs": [],
   "source": [
    "with open('./models/pre2/nodeLoss_2.pickle', 'rb') as f:\n",
    "    graphLoss_2 = pickle.load(f)"
   ]
  },
  {
   "cell_type": "code",
   "execution_count": null,
   "id": "10e47285",
   "metadata": {
    "id": "10e47285",
    "outputId": "3fd3d282-c4f9-4aa0-c34e-35d5e37b1188"
   },
   "outputs": [
    {
     "data": {
      "text/plain": [
       "{'loss': [36.3759880065918], 'accu': [0.046875], 'f1': [0.023529411764705882]}"
      ]
     },
     "execution_count": 11,
     "metadata": {
      "tags": []
     },
     "output_type": "execute_result"
    }
   ],
   "source": [
    "graphLoss_2"
   ]
  }
 ],
 "metadata": {
  "accelerator": "GPU",
  "colab": {
   "collapsed_sections": [],
   "name": "train_module_for_predict_GCN.ipynb",
   "provenance": []
  },
  "kernelspec": {
   "display_name": "Python 3",
   "language": "python",
   "name": "python3"
  },
  "language_info": {
   "codemirror_mode": {
    "name": "ipython",
    "version": 3
   },
   "file_extension": ".py",
   "mimetype": "text/x-python",
   "name": "python",
   "nbconvert_exporter": "python",
   "pygments_lexer": "ipython3",
   "version": "3.8.8"
  }
 },
 "nbformat": 4,
 "nbformat_minor": 5
}
